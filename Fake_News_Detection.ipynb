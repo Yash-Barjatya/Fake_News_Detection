{
  "cells": [
    {
      "attachments": {},
      "cell_type": "markdown",
      "metadata": {
        "id": "9wawsDIgxFw3"
      },
      "source": [
        "**DESCRIPTION** : A machine learning program to identify when an article might be fake news"
      ]
    },
    {
      "attachments": {},
      "cell_type": "markdown",
      "metadata": {
        "id": "QlAPrg3SxdYi"
      },
      "source": [
        "**Dataset Description**\n",
        "\n",
        " *train.csv*: A full training dataset with the following attributes:\n",
        "\n",
        "    1. id: unique id for a news article\n",
        "    2. title: the title of a news article\n",
        "    3. author: author of the news article\n",
        "    4. text: the text of the article; could be incomplete\n",
        "    5. label: a label that marks the article as potentially unreliable\n",
        "                1: unreliable\n",
        "                0: reliable\n"
      ]
    },
    {
      "attachments": {},
      "cell_type": "markdown",
      "metadata": {
        "id": "zcoYXkX9zBRZ"
      },
      "source": [
        "**Importing the required libraries**"
      ]
    },
    {
      "cell_type": "code",
      "execution_count": 169,
      "metadata": {
        "id": "mWMioV4DctvD"
      },
      "outputs": [],
      "source": [
        "import pandas as pd\n",
        "import numpy as np\n",
        "import pickle\n",
        "import seaborn as sns\n",
        "import string\n",
        "import matplotlib.pyplot as plt\n",
        "import re #(regular expression - a library useful for searching word in a paragraph)\n",
        "import nltk\n",
        "from nltk.corpus import stopwords # stopword- words that doesn't add much value of the paragraph , like -'the' ,'with' ,'i',etc.\n",
        "from nltk.stem import WordNetLemmatizer # returns the root of a word by removing its prefix and suffix\n",
        "from sklearn.feature_extraction.text import TfidfVectorizer # to convert text into feature vector (i.e numbers)\n",
        "from sklearn.model_selection import train_test_split\n",
        "from sklearn.linear_model import LogisticRegression\n",
        "from sklearn.tree import DecisionTreeClassifier\n",
        "from sklearn.linear_model import PassiveAggressiveClassifier\n",
        "import xgboost as xgb\n",
        "from xgboost import XGBClassifier\n",
        "from sklearn import metrics\n",
        "from sklearn.metrics import accuracy_score"
      ]
    },
    {
      "cell_type": "code",
      "execution_count": null,
      "metadata": {
        "id": "MWQCD0lpYjeb"
      },
      "outputs": [],
      "source": [
        "\n",
        "nltk.download('stopwords')\n",
        "nltk.download('wordnet')"
      ]
    },
    {
      "cell_type": "code",
      "execution_count": null,
      "metadata": {
        "id": "yj-1p-6_Y2Qs"
      },
      "outputs": [],
      "source": [
        "# printing the stopwords of English language\n",
        "print(stopwords.words('english'))"
      ]
    },
    {
      "attachments": {},
      "cell_type": "markdown",
      "metadata": {
        "id": "_jVi9MAvcRP2"
      },
      "source": [
        "**Data Pre-pocessing**"
      ]
    },
    {
      "cell_type": "code",
      "execution_count": null,
      "metadata": {
        "id": "XhFAMV3ac_ms"
      },
      "outputs": [],
      "source": [
        "#Loading training dataset to pandas framework\n",
        "news_dataset = pd.read_csv('./dataset/train.csv')"
      ]
    },
    {
      "cell_type": "code",
      "execution_count": null,
      "metadata": {
        "id": "0g5hth5DfcjZ"
      },
      "outputs": [],
      "source": [
        "# size of dataset\n",
        "news_dataset.shape\n"
      ]
    },
    {
      "cell_type": "code",
      "execution_count": null,
      "metadata": {
        "id": "LwbCgEiMfCdZ"
      },
      "outputs": [],
      "source": [
        "# printing the first 5 rows of the dataframe\n",
        "news_dataset.head()"
      ]
    },
    {
      "cell_type": "code",
      "execution_count": null,
      "metadata": {
        "id": "c0J6Hdu8pG5L"
      },
      "outputs": [],
      "source": [
        "news_dataset.isnull().sum()"
      ]
    },
    {
      "cell_type": "code",
      "execution_count": null,
      "metadata": {
        "id": "b-5Vujilpme0"
      },
      "outputs": [],
      "source": [
        "# replacing the null values with empty string\n",
        "news_dataset = news_dataset.fillna('')"
      ]
    },
    {
      "attachments": {},
      "cell_type": "markdown",
      "metadata": {
        "id": "etdtxkL1edkL"
      },
      "source": [
        "Now Let’s explore the unique values in the each category using below code."
      ]
    },
    {
      "cell_type": "code",
      "execution_count": null,
      "metadata": {
        "id": "E-iXbHqYeYYJ"
      },
      "outputs": [],
      "source": [
        "sns.countplot(data=news_dataset,\n",
        "              x='label',\n",
        "              order=news_dataset['label'].value_counts().index)"
      ]
    },
    {
      "cell_type": "code",
      "execution_count": null,
      "metadata": {},
      "outputs": [],
      "source": [
        "news_dataset.label[news_dataset.label == 'REAL'] = 1\n",
        "news_dataset.label[news_dataset.label == 'FAKE'] = 0"
      ]
    },
    {
      "cell_type": "code",
      "execution_count": null,
      "metadata": {
        "id": "_HHVhR9bARLr"
      },
      "outputs": [],
      "source": [
        "# Merging 'title' and 'author' column in a new column 'body'\n",
        "news_dataset['body']=news_dataset['text']+' '+news_dataset['title']\n"
      ]
    },
    {
      "cell_type": "code",
      "execution_count": null,
      "metadata": {
        "id": "U3h2oV0hA8Em"
      },
      "outputs": [],
      "source": [
        "print(news_dataset['body'])"
      ]
    },
    {
      "attachments": {},
      "cell_type": "markdown",
      "metadata": {
        "id": "bolxswJwRkvc"
      },
      "source": [
        "**Text Cleaning :**\n",
        "\n",
        "Returning only the root word by removing its prefix and suffix.\n",
        "\n",
        "For eg :\n",
        "teacher,teaching --> teach"
      ]
    },
    {
      "cell_type": "markdown",
      "metadata": {},
      "source": [
        "In this step we will clean the data that will be used for training. The cleaning will involve these steps- 1.Removing all the extra information like brackets, any kind of puctuations - commas, apostrophes, quotes, question marks, and more. 2.Remove all the numeric text, urls"
      ]
    },
    {
      "cell_type": "code",
      "execution_count": 128,
      "metadata": {},
      "outputs": [],
      "source": [
        "lemmatizer = WordNetLemmatizer()\n",
        "stpwrds = list(stopwords.words('english'))"
      ]
    },
    {
      "cell_type": "code",
      "execution_count": 150,
      "metadata": {},
      "outputs": [],
      "source": [
        "for x in range(len(news_dataset)) :\n",
        "    corpus = []\n",
        "    review = news_dataset['body'][x]\n",
        "    review = re.sub(r'https?://\\S+|www\\.\\S+', '', review)  # Remove URLs\n",
        "    review = re.sub(r'\\W', ' ', review)  # Remove special characters\n",
        "    review = re.sub(r'\\n', ' ', review)  # Replace newline characters with a space\n",
        "    review = re.sub(r'\\w*\\d\\w*', '', review)  # Remove words containing digits\n",
        "    review = review.lower()  # Convert to lowercase\n",
        "    review = nltk.word_tokenize(review)  # Tokenize\n",
        "    for y in review :\n",
        "        if y not in stpwrds :\n",
        "            corpus.append(lemmatizer.lemmatize(y))\n",
        "    review = ' '.join(corpus)\n",
        "    news_dataset['body'][x] = review  "
      ]
    },
    {
      "cell_type": "code",
      "execution_count": 151,
      "metadata": {
        "id": "gjL8ji7jZ1v1"
      },
      "outputs": [],
      "source": [
        "# Seperating the data and label\n",
        "X =news_dataset['body'].values\n",
        "Y =news_dataset['label'].astype('int').values\n"
      ]
    },
    {
      "cell_type": "code",
      "execution_count": 152,
      "metadata": {
        "id": "-7xeU3CswG3C"
      },
      "outputs": [
        {
          "name": "stdout",
          "output_type": "stream",
          "text": [
            "['daniel greenfield shillman journalism fellow freedom center new york writer focusing radical islam final stretch election hillary rodham clinton gone war fbi word unprecedented thrown around often election ought retired still unprecedented nominee major political party go war fbi exactly hillary people done coma patient waking watching hour cnn hospital bed would assume fbi director james comey hillary opponent election fbi attack everyone obama cnn hillary people circulated letter attacking comey currently medium hit piece lambasting targeting trump surprising clinton ally start running attack ad fbi fbi leadership warned entire left wing establishment form lynch mob continue going hillary fbi credibility attacked medium democrat preemptively head result investigation clinton foundation hillary clinton covert struggle fbi agent obama doj people gone explosively public new york time compared comey j edgar hoover bizarre headline james comey role recall hoover fbi fairly practically admits front spouting nonsense boston globe published column calling comey resignation outdone time editorial claiming scandal really attack woman james carville appeared msnbc remind everyone still alive insane accused comey coordinating house republican kgb thought vast right wing conspiracy stretch countless medium story charge comey violating procedure know procedural violation emailing classified information stored bathroom server senator harry reid sent comey letter accusing violating hatch act hatch act nice idea much relevance age obama tenth amendment cable news spectrum quickly filled medium hack glancing wikipedia article hatch act table accusing fbi director one awkward conspiracy hillary ever james comey really hurt hillary picked one hell strange way long ago democrat breathing sigh relief gave hillary clinton pa prominent public statement really elect trump keeping email scandal going trash investigation payroll house republican kgb back playing coy sudden development vladimir putin paul ryan talked taking look anthony weiner computer either comey cunning fbi director ever lived awkwardly trying navigate political mess trapped doj leadership whose political future tied hillary victory bureau whose apolitical agent want allowed job truly mysterious thing hillary associate decided go war respected federal agency american like fbi hillary clinton enjoys unfavorable rating interesting question hillary old strategy lie deny fbi even criminal investigation underway instead associate insisted security review fbi corrected shrugged old breezy denial approach given way savage assault fbi pretending nothing wrong bad strategy better one picking fight fbi lunatic clinton associate try claim fbi really kgb two possible explanation hillary clinton might arrogant enough lash fbi belief victory near kind hubris led plan victory firework display could lead declare war fbi irritating final mile campaign explanation people panicked going war fbi behavior smart focused presidential campaign act desperation presidential candidate decides option try destroy credibility fbi hubris fear fbi might reveal original fbi investigation hillary clinton confident could ride good reason believing hillary clinton gone place paranoid wreck within short space time positive clinton campaign promising unite country replaced desperate flailing operation focused energy fighting fbi one reason bizarre behavior clinton campaign decided fbi investigation latest batch email pose threat survival gone fighting fbi unprecedented step born fear hard know whether fear justified existence fear already tell u whole lot clinton loyalist rigged old investigation knew outcome ahead time well knew debate question suddenly longer control afraid smell fear fbi wiretap investigation clinton foundation finding new email time clintonworld panicked spinmeister clintonworld claimed email scandal much smoke without fire appearance impropriety without substance react smoke respond fire misguided assault fbi tell u hillary clinton ally afraid revelation bigger fundamental illegality email setup email setup preemptive cover clinton campaign panicked badly belief right wrong whatever crime illegal setup meant cover risk exposed clinton weathered countless scandal year whatever protecting time around bigger usual corruption bribery sexual assault abuse power followed around throughout year bigger damaging allegation already come want fbi investigator anywhere near campaign comey pure intimidation also warning senior fbi people value career warned stay away democrat closing rank around nominee fbi ugly unprecedented scene may also last stand hillary clinton awkwardly wound way numerous scandal election cycle never shown fear desperation changed whatever afraid lie buried email huma abedin bring like nothing else smell hillary fear'\n",
            " 'google pinterest digg linkedin reddit stumbleupon print delicious pocket tumblr two fundamental truth world paul ryan desperately want president paul ryan never president today proved particularly staggering example political cowardice paul ryan reversed course announced back trump train aboutface week ago previously declared would supporting defending trump tape made public trump bragged assaulting woman suddenly ryan appearing pro trump rally boldly declaring already sent vote make president united state surreal moment figurehead republican party dosed gasoline got stage chilly afternoon wisconsin lit match speakerryan say voted realdonaldtrump republican time come home http co pic twitter com abc news politics abcpolitics november democratic party asked better moment film ryan chance ever becoming president went zero instant wreckage trump leave behind wake cravenly backed campaign recover ryan career manages limp way dnc tape locked loaded used every ad election day ringing endorsement man clearly hate personal level speaks volume spinelessness ryan postured principled conservative one uncomfortable trump unapologetic bigotry sexism however push came shove paul ryan like many colleague turned sniveling appeaser lofty tak conviction principle house card collapsed slightest breeze especially bizarre close ryan came making unscathed month speaker house refused comment trump strategy seemed keep head pretend trump exist hope nobody remembered happened day away election screwed ugly election done good exposing utter cowardice republican feigned moral courage reality television star spit hijacked party insulted wife got every last one kneel turn event featured image via twitter watch exact moment paul ryan committed political suicide trump rally video'\n",
            " 'u secretary state john f kerry said monday stop paris later week amid criticism top american official attended sunday unity march terrorism kerry said expects arrive paris thursday evening head home week abroad said fly france conclusion series meeting scheduled thursday sofia bulgaria plan meet next day foreign minister laurent fabius president francois hollande return washington visit kerry family childhood tie country speaks fluent french could address criticism united state snubbed france darkest hour many year french press monday filled question neither president obama kerry attended sunday march leader nation obama said stayed away security need taxing country kerry prior commitment among roughly leader attend israeli prime minister benjamin netanyahu stranger intense security marched beside hollande city street highest ranking u official attending march jane hartley ambassador france victoria nuland assistant secretary state european affair attorney general eric h holder jr paris meeting law enforcement official participate march kerry spent sunday business summit hosted india prime minister narendra modi united state eager india relax stringent law function barrier foreign investment hope modi government act open huge indian market american business news conference kerry brushed aside criticism united state sent senior official paris quibbling little bit noted many staffer american embassy paris attended march including ambassador said wanted present march could prior commitment india going way home make crystal clear passionately feel event taken place said think people france doubt america understanding happened personal sense loss deep commitment people france moment trauma kerry go paris gesture sympathy'\n",
            " ...\n",
            " 'anti trump protester tool oligarchy reform always provokes rage part profit old order arthur schlesinger jr crisis old order paul craig robert anti trump protester besmirching name progressive pretending progressive refusing accept outcome presidential election look like acting worse white trash denouncing think know thug hire paid oligarchy delegitimize trump presidency way washington german marshall fund paid student kiev protest democratically elected ukrainian government order prepare way coup organization change org claim progressive group might front along progressive group oligarchy destroying reputation progressive circulating petition directs elector electoral collage annul election casting vote hillary remember upset progressive trump said might accept election result evidence vote rigged progressive damned trump saying might certain condition western presstitutes used protest kiev delegitimize democratically elected government set coup protest pay good enough non ukrainian came nearby country participate protest order collect money time posted amount paid daily protester report came eastern western europe people ukrainian paid protest ukrainian thing going trump protest cnn report many american across country donald trump victory outcome simply refuse accept ten thousand filled street least u city overnight exact reporting oligarchy desired presstitutes got hope one think simultaneous protest city spontaneous event independent protest manage come slogan sign night following election point protest interest served roman always asked benefit one answer oligarchy oligarchy benefit trump threat oligarchy intends stop giveaway american job foreigner job giveaway sanctified neoliberal junk economist free trade one main reason century worsening u income distribution money formerly paid middle class wage salary american manufacturing employee college graduate routed pocket one percent u corporation move production good service sold american offshore asian country china india wage bill fall money formerly paid middle class income go instead executive bonus dividend capital gain shareholder ladder upward mobility made america land opportunity dismantled sole purpose making handful people multi billionaire trump threat oligarchy intends peaceful relation russia order replace profitable soviet threat oligarchy neoconservative agent worked overtime recreate russian threat demonizing russia accustomed many decade excess profit profitable cold war military security complex angry president reagan brought cold war end leach american taxpayer could get cold war going soviet union collapsed result right wing coup soviet president mikhail gorbachev military security complex zionist neoconservative agent cooked war terror keep money flowing one percent hard presstitute medium worked create fear muslim threat even insouciant american knew muslim thousand icbm carrying powerful thermo nuclear weapon capable destroying entirety united state minute neither muslim red army capable overrunning europe couple day indeed muslim needed army refugee washington war enabled european overrunning europe excuse annual trillion dollar billion military security budget missing oligarchy created new hitler russia hillary oligarchy principle agent heating new cold war hillary tool enriched oligarchy whose job president protect increase trillion dollar budget military security complex hillary white house looting american taxpayer behalf wealth one percent could go forward unimpeded trump resolve russian threat oligarchy take income hit hillary job president also privatize social security order wall street benefactor rip american way american ripped insurance company obamacare american pay attention think mistakenly fbi cleared hillary violating national security protocol email practice fbi said hillary violate national security result carelessness ignorance got indictment fbi concluded intentionally violate national security protocol investigation clinton foundation continues word order protect hillary fbi fell back ancient common law rule crime without intent see pcr lawrence stratton tyranny good intention one would think protester legitimate would celebrating trump victory unlike hillary promise reduce tension powerful russia hope also china unlike hillary trump say concerned absence career people protesting street city word protest american people electing trump president pointless protest happening one reason oligarchy intends delegitimize trump presidency president trump delegitimized easier oligarchy assassinate unless oligarchy appoint control trump government trump prime candidate assassination protest trump suspicious another reason unlike hillary obama george w bush donald trump slaughtered dislocated million people seven country sending million refugee oligarchy war overrun europe trump earned fortune hook crook selling u government influence foreign agent bill hillary protester protesting answer except hired protest maidan protester kiev hired protest u german financed ngo protest kiev equally pointless presidential election month away ukrainian really believed president conspiring russia keep ukraine becoming western puppet state wished become puppet state regardless cost opportunity vote government hand reason protest orchestrate coup u succeed putting agent control new ukrainian government victoria nuland u ambassador kiev confirmed telephone conversation available internet maidan protest pointless except making coup possible protest without doubt arranged washington assistant secretary state victoria nuland neoconservative brought state department hillary clinton purpose creating conflict russia trump protested order make vulnerable event prof threat oligarchy thought trump presidency oligarchy still power make real reform difficult achieve symbolic reform product contest president trump oligarch karl marx learned historical experience lenin stalin pol pot learned karl marx change occur displaced ruling class left intact revolution proof throughout south america every revolution indigenous people left unmolested spanish ruling class every revolution overthrown collusion ruling class washington washington conspired traditional elite remove elected president honduras number occasion recently washington helped elite evict female president argentina brazil president venezuela ecuador bolivia crosshairs unlikely survive washington determined get hand julian assange achieve washington intends overthrow ecuadoran government defiance washington gave julian assange political asylum hugo chavez power exile exterminate spanish ruling class venezuela ruling class participated cia coup chavez cia could kill chavez people military forced release instead punishing criminal would murdered chavez let go according marx lenin stalin classic mistake revolutionary rely good overthrown ruling class certain road defeat revolution latin american proved unable learn lesson revolution conciliatory trump dealmaker oligarchy permit sheen success exchange real change trump perfect might fail back two important element program reduce tension major nuclear power halt washington policy permitting globalism destroy american economic prospect tension nuclear power worsen worry problem combination economy hollowed globalism immigration economic nightmare trump understands reason support note believe trump ruse conducted oligarchy however hillary bought paid representative oligarchy elaborate ruse unnecessary preferable oligarchy win platform install president opposite platform change around another sellout increase anger people hillary oligarchy would voter mandate platform dr paul craig robert assistant secretary treasury economic policy associate editor wall street journal columnist business week scripps howard news service creator syndicate many university appointment internet column attracted worldwide following robert latest book failure laissez faire capitalism economic dissolution west america lost neoconservative threat world order anti trump protester tool oligarchy information'\n",
            " 'addis ababa ethiopia president obama convened meeting leader several east african nation african union monday effort address worsening situation south sudan even met ethiopia prime minister discus strengthen human right democratic institution resolution sight ongoing conflict south sudan obama brought together top official ethiopia uganda kenya sudan u chart strategy event latest round peace talk fail african nation led ethiopia trying broker peace south sudan intergovernmental authority development igad regional body almost ready present possible compromise warring party two side aug respond proposal administration official little expectation accept monday obama praised regional leader showing extraordinary leadership trying address continuing situation south sudan group included ethiopian prime minister hailemariam desalegn ugandan president yoweri museveni kenyan president uhuru kenyatta african union chairperson dlamini zuma sudan minister foreign affair ibrahim ghandour give u delegation opportunity learn progress made appears continued roadblock partner make progress obama said hope actually bring kind peace people south sudan desperately need question south sudan nation united state helped bring existence year effort george w bush obama administration vexed american policymakers year december south sudan president salva kiir accused riek machar served vice president attempting coup etat two longtime political rival different ethnic group kiir dinka machar nuer come together form government country first created tribal difference helped fuel conflict war largely focused control nation oil field south sudan primary source revenue princeton lyman u special envoy sudan south sudan noted first took envoy united state spent billion peacekeeping assistance two nation four year ago big investment added point million people facing food shortage roughly million displaced home additional south sudanese fled across border neighboring country including ethiopia conflict also pose major economic problem kenya major investment south sudan fighting broke lapsset corridor project aimed transporting oil south sudan kenyan port lamu according e j hogendoorn deputy program director africa international crisis group planned transportation infrastructure development could engine development many part east africa unfortunately course hold war said obama spent part afternoon addressing regional conflict africa devoted rest day strengthening tie ethiopia whose alliance united state date back century current government come sharp criticism treatment political opponent journalist obama first sitting u president visit ethiopia news conference monday afternoon obama hailemariam said frank discussion ethiopia human right practice need improvement ethiopia africa number two jailer journalist according committee protect journalist ruling party percent seat may parliamentary election white house national security adviser susan rice asked last week whether considered ethiopia democracy replied irony one hundred percent news conference obama twice referred ethiopian government democratically elected bite tongue obama said raising concern issue ethiopia position respect hailemariam part said commitment democracy real skin deep added later people could expect sweeping reform given fact military rule ended couple decade ago something understood fledgling democracy two leader also discussed collaboration counterterrorism area ethiopia active leader white house announced monday work congress provide approximately million year new training equipment capacity building aid african ally administration also said would provide least million assistance fiscal year combat violent extremism east africa money intended foster collaboration among security force law enforcement government official community leader member civil society official said obama praised ethiopia work curb extremist activity noted government labeled opposition group posing greater threat u intelligence would indicate intelligence indicates may oppose government tipped terrorism said united state provides million assistance ethiopia annually vast bulk million come u agency international development rest largely security related last fiscal year nearly million went health program million went humanitarian aid obama said ethiopia proven global leader development past year lifted million people poverty many people around world image ethiopia remains stuck past remembering drought famine said two leader appeared friendly rapport throughout news conference hailemariam described country scoring series first along cradle mankind said ethiopia birthplace coffee elicited smile obama obama said impressed ethiopian unusual pet chance see famous lion live ground said considering getting white house conceded make sure dog safe ethiopia obama seek progress peace security east africa'\n",
            " 'jeb bush suddenly attacking trump matter jeb bush pulling punch anymore come donald trump former florida governor delicately danced around billionaire businessman presidential primary far glove came week bush called trump closet democrat trying stunt trump rise attempting recover political mojo jeb desperately trying find swagger right gop strategist ford connell said knock jeb low voltage willing fight best way shake perception engage person medium loop change bush approach point lobbed many direct attack trump delicately condemning criticism arizona sen john mccain war service attack fox news megyn kelly even month first debate bush swatted story allegedly called trump buffoon clown saying trump language divisive trump called bush true gentleman detente ended week far top tier candidate avoided directly attacking trump treating kid glove anger part gop base trump appeal word voter need hope trump fade split screen new hampshire town hall week bush trump volleyed attack bush took pointed jab current front runner underscoring trump past history democrat liberal position used hold mr trump proven conservative record bush said according washington post democrat longer last decade republican given money democrat given republican bush went attack trump hard line immigration proposal arguing vitriolic would massive price tag hundred billion dollar cost implement plan conservative plan bush said going pitch let support someone guess stand consistent governor consistently view next day bush continued hit social medium trump never one miss moment retaliate pull punch either town hall wednesday trump blasted bush unelectable low energy person know happening jeb crowd street sleeping trump said applause since trump also ramped attack bush twitter move hot rhetoric may tripped bush though consider use phrase anchor baby immigration reform something bush passionate even written book often criticized within gop liberal issue instead combative bush appeared use loaded phrase first time left struggling defend use may signal attack dog crouch taking still one completely comfortable bush earlier said wanted campaign joyfully candidate embraced hitting trump kentucky sen rand paul went forcefully debate though punch trump hedging bet support hillary clinton win presidency appear land candidate like ohio gov john kasich demurred earlier gop debate night former texas gov rick perry businesswoman carly fiorina also jabbed trump bush though need close floodgate dropped national poll trump risen new hampshire bush led trump even newcomer kasich seen surge cullen former new hampshire gop chairman said change tone tactic smart move bush one could help granite state think good politics jeb said fergus cullen former new hampshire republican party chairman percent republican entertained donald trump percent party say vote circumstance jeb bush people begin trying appeal percent adult room trying govern connell agreed pointed even new approach one uncomfortable bush necessary lot election studious one would worked said trump flipped script jeb bush suddenly attacking trump matter']\n",
            "[0 0 1 ... 0 1 1]\n"
          ]
        }
      ],
      "source": [
        "print(X)\n",
        "print(Y)\n"
      ]
    },
    {
      "cell_type": "code",
      "execution_count": 153,
      "metadata": {},
      "outputs": [],
      "source": [
        "# Splitting the dataset to training and test data\n",
        "X_train,X_test,Y_train,Y_test =train_test_split(X,Y,test_size=0.2,stratify=Y,random_state=2)\n"
      ]
    },
    {
      "cell_type": "markdown",
      "metadata": {},
      "source": [
        "**Note** : In the above cell\n",
        "\n",
        "*stratify=Y* will make sure that random split has same proportion of 0 's and 1 's as that in original dataset\n",
        "\n",
        "*random_state* is used to set the seed for the random generator so that we can ensure that the results that we get can be reproduced."
      ]
    },
    {
      "attachments": {},
      "cell_type": "markdown",
      "metadata": {
        "id": "mbDDRdGhxLAp"
      },
      "source": [
        "**What is a TfidfVectorizer?**\n",
        "\n",
        "*TF (Term Frequency):* The number of times a word appears in a document is its Term Frequency. A higher value means a term appears more often than others, and so, the document is a good match when the term is part of the search terms.\n",
        "\n",
        "*IDF (Inverse Document Frequency):* Words that occur many times a document, but also occur many times in many others, may be irrelevant. IDF is a measure of how significant a term is in the entire corpus.\n",
        "\n",
        "The TfidfVectorizer converts a collection of raw documents into a matrix of TF-IDF features.\n",
        "\n",
        "Thus in TfidfVectorizer we consider overall document weightage of a word. It helps us in dealing with most frequent words. Using it we can penalize them. TfidfVectorizer weights the word counts by a measure of how often they appear in the documents.\n"
      ]
    },
    {
      "cell_type": "code",
      "execution_count": 154,
      "metadata": {
        "id": "B4bEAC3KwcX6"
      },
      "outputs": [],
      "source": [
        "# Converting the textual data to numerical data using TfidfVectorizer\n",
        "vectorizer =TfidfVectorizer()\n",
        "tfidf_X_train = vectorizer.fit_transform(X_train)\n",
        "tfidf_X_test = vectorizer.transform(X_test)"
      ]
    },
    {
      "cell_type": "code",
      "execution_count": 155,
      "metadata": {
        "id": "SIR8Vcxp17RI"
      },
      "outputs": [
        {
          "name": "stdout",
          "output_type": "stream",
          "text": [
            "  (0, 14701)\t0.044169434709975766\n",
            "  (0, 11312)\t0.04413035318403348\n",
            "  (0, 21306)\t0.05132613518056454\n",
            "  (0, 45431)\t0.022878146561402406\n",
            "  (0, 50614)\t0.042229188812258185\n",
            "  (0, 6126)\t0.044855041516554846\n",
            "  (0, 18918)\t0.044247999515528616\n",
            "  (0, 36185)\t0.04136969881307987\n",
            "  (0, 24915)\t0.03016912512969041\n",
            "  (0, 27872)\t0.031069934505999368\n",
            "  (0, 26631)\t0.05745658233364052\n",
            "  (0, 41100)\t0.02451957287776333\n",
            "  (0, 15445)\t0.035833798227060294\n",
            "  (0, 7409)\t0.027556562424137208\n",
            "  (0, 37501)\t0.0295507755989094\n",
            "  (0, 14588)\t0.06759875256729546\n",
            "  (0, 37489)\t0.040772146168219864\n",
            "  (0, 27220)\t0.07901107791821595\n",
            "  (0, 36077)\t0.05770868955380217\n",
            "  (0, 43070)\t0.03426198568820103\n",
            "  (0, 13619)\t0.06255232798029543\n",
            "  (0, 25854)\t0.0682189261287343\n",
            "  (0, 26014)\t0.022334536414188085\n",
            "  (0, 11945)\t0.05314311808097138\n",
            "  (0, 5964)\t0.03935018105232712\n",
            "  :\t:\n",
            "  (5067, 3104)\t0.07737931725780448\n",
            "  (5067, 3862)\t0.07965544633134945\n",
            "  (5067, 35420)\t0.08728886734532162\n",
            "  (5067, 46652)\t0.057410744494672775\n",
            "  (5067, 49548)\t0.044682375587482476\n",
            "  (5067, 49646)\t0.09747489871622672\n",
            "  (5067, 40098)\t0.06899491927078269\n",
            "  (5067, 21054)\t0.11535402073933801\n",
            "  (5067, 14643)\t0.02771733337613446\n",
            "  (5067, 35402)\t0.033231684457708924\n",
            "  (5067, 50433)\t0.024450184031312872\n",
            "  (5067, 35821)\t0.031228410590888572\n",
            "  (5067, 35417)\t0.03257626833587717\n",
            "  (5067, 10575)\t0.04056881315672968\n",
            "  (5067, 46508)\t0.03566292710904074\n",
            "  (5067, 30622)\t0.03152176545348662\n",
            "  (5067, 37501)\t0.029653696968194684\n",
            "  (5067, 38571)\t0.06558124055738812\n",
            "  (5067, 1858)\t0.03615012718058862\n",
            "  (5067, 16875)\t0.02094138400095393\n",
            "  (5067, 34865)\t0.028534696434966342\n",
            "  (5067, 17531)\t0.03100393262014286\n",
            "  (5067, 26292)\t0.02913822128054774\n",
            "  (5067, 32290)\t0.06434568518197284\n",
            "  (5067, 35428)\t0.040455965520652\n"
          ]
        }
      ],
      "source": [
        "# X after numerical vectorization\n",
        "print(tfidf_X_train)"
      ]
    },
    {
      "attachments": {},
      "cell_type": "markdown",
      "metadata": {
        "id": "4rglY8Hhgizi"
      },
      "source": [
        "**Model Training : Decision Tree Classifier**"
      ]
    },
    {
      "cell_type": "code",
      "execution_count": 156,
      "metadata": {
        "id": "LQSRDdGmgiIT"
      },
      "outputs": [
        {
          "data": {
            "text/html": [
              "<style>#sk-container-id-8 {color: black;background-color: white;}#sk-container-id-8 pre{padding: 0;}#sk-container-id-8 div.sk-toggleable {background-color: white;}#sk-container-id-8 label.sk-toggleable__label {cursor: pointer;display: block;width: 100%;margin-bottom: 0;padding: 0.3em;box-sizing: border-box;text-align: center;}#sk-container-id-8 label.sk-toggleable__label-arrow:before {content: \"▸\";float: left;margin-right: 0.25em;color: #696969;}#sk-container-id-8 label.sk-toggleable__label-arrow:hover:before {color: black;}#sk-container-id-8 div.sk-estimator:hover label.sk-toggleable__label-arrow:before {color: black;}#sk-container-id-8 div.sk-toggleable__content {max-height: 0;max-width: 0;overflow: hidden;text-align: left;background-color: #f0f8ff;}#sk-container-id-8 div.sk-toggleable__content pre {margin: 0.2em;color: black;border-radius: 0.25em;background-color: #f0f8ff;}#sk-container-id-8 input.sk-toggleable__control:checked~div.sk-toggleable__content {max-height: 200px;max-width: 100%;overflow: auto;}#sk-container-id-8 input.sk-toggleable__control:checked~label.sk-toggleable__label-arrow:before {content: \"▾\";}#sk-container-id-8 div.sk-estimator input.sk-toggleable__control:checked~label.sk-toggleable__label {background-color: #d4ebff;}#sk-container-id-8 div.sk-label input.sk-toggleable__control:checked~label.sk-toggleable__label {background-color: #d4ebff;}#sk-container-id-8 input.sk-hidden--visually {border: 0;clip: rect(1px 1px 1px 1px);clip: rect(1px, 1px, 1px, 1px);height: 1px;margin: -1px;overflow: hidden;padding: 0;position: absolute;width: 1px;}#sk-container-id-8 div.sk-estimator {font-family: monospace;background-color: #f0f8ff;border: 1px dotted black;border-radius: 0.25em;box-sizing: border-box;margin-bottom: 0.5em;}#sk-container-id-8 div.sk-estimator:hover {background-color: #d4ebff;}#sk-container-id-8 div.sk-parallel-item::after {content: \"\";width: 100%;border-bottom: 1px solid gray;flex-grow: 1;}#sk-container-id-8 div.sk-label:hover label.sk-toggleable__label {background-color: #d4ebff;}#sk-container-id-8 div.sk-serial::before {content: \"\";position: absolute;border-left: 1px solid gray;box-sizing: border-box;top: 0;bottom: 0;left: 50%;z-index: 0;}#sk-container-id-8 div.sk-serial {display: flex;flex-direction: column;align-items: center;background-color: white;padding-right: 0.2em;padding-left: 0.2em;position: relative;}#sk-container-id-8 div.sk-item {position: relative;z-index: 1;}#sk-container-id-8 div.sk-parallel {display: flex;align-items: stretch;justify-content: center;background-color: white;position: relative;}#sk-container-id-8 div.sk-item::before, #sk-container-id-8 div.sk-parallel-item::before {content: \"\";position: absolute;border-left: 1px solid gray;box-sizing: border-box;top: 0;bottom: 0;left: 50%;z-index: -1;}#sk-container-id-8 div.sk-parallel-item {display: flex;flex-direction: column;z-index: 1;position: relative;background-color: white;}#sk-container-id-8 div.sk-parallel-item:first-child::after {align-self: flex-end;width: 50%;}#sk-container-id-8 div.sk-parallel-item:last-child::after {align-self: flex-start;width: 50%;}#sk-container-id-8 div.sk-parallel-item:only-child::after {width: 0;}#sk-container-id-8 div.sk-dashed-wrapped {border: 1px dashed gray;margin: 0 0.4em 0.5em 0.4em;box-sizing: border-box;padding-bottom: 0.4em;background-color: white;}#sk-container-id-8 div.sk-label label {font-family: monospace;font-weight: bold;display: inline-block;line-height: 1.2em;}#sk-container-id-8 div.sk-label-container {text-align: center;}#sk-container-id-8 div.sk-container {/* jupyter's `normalize.less` sets `[hidden] { display: none; }` but bootstrap.min.css set `[hidden] { display: none !important; }` so we also need the `!important` here to be able to override the default hidden behavior on the sphinx rendered scikit-learn.org. See: https://github.com/scikit-learn/scikit-learn/issues/21755 */display: inline-block !important;position: relative;}#sk-container-id-8 div.sk-text-repr-fallback {display: none;}</style><div id=\"sk-container-id-8\" class=\"sk-top-container\"><div class=\"sk-text-repr-fallback\"><pre>DecisionTreeClassifier()</pre><b>In a Jupyter environment, please rerun this cell to show the HTML representation or trust the notebook. <br />On GitHub, the HTML representation is unable to render, please try loading this page with nbviewer.org.</b></div><div class=\"sk-container\" hidden><div class=\"sk-item\"><div class=\"sk-estimator sk-toggleable\"><input class=\"sk-toggleable__control sk-hidden--visually\" id=\"sk-estimator-id-8\" type=\"checkbox\" checked><label for=\"sk-estimator-id-8\" class=\"sk-toggleable__label sk-toggleable__label-arrow\">DecisionTreeClassifier</label><div class=\"sk-toggleable__content\"><pre>DecisionTreeClassifier()</pre></div></div></div></div></div>"
            ],
            "text/plain": [
              "DecisionTreeClassifier()"
            ]
          },
          "execution_count": 156,
          "metadata": {},
          "output_type": "execute_result"
        }
      ],
      "source": [
        "decision_model = DecisionTreeClassifier()\n",
        "#training the model\n",
        "decision_model.fit(tfidf_X_train,Y_train)"
      ]
    },
    {
      "attachments": {},
      "cell_type": "markdown",
      "metadata": {
        "id": "m5xX0XDog4gK"
      },
      "source": [
        "**Evaluation and Prediction**\n"
      ]
    },
    {
      "cell_type": "code",
      "execution_count": 157,
      "metadata": {
        "id": "wll9IVXbhwjI"
      },
      "outputs": [],
      "source": [
        "# Predict testing data\n",
        "Y_test_pred = decision_model.predict(tfidf_X_test)\n",
        "# accuracy score of test data\n",
        "test_accuracy = accuracy_score(Y_test_pred,Y_test)"
      ]
    },
    {
      "cell_type": "code",
      "execution_count": 158,
      "metadata": {
        "id": "XcWf8vwoh2Ri"
      },
      "outputs": [
        {
          "name": "stdout",
          "output_type": "stream",
          "text": [
            "Accuracy score of test data : 0.8105761641673244\n"
          ]
        }
      ],
      "source": [
        "print('Accuracy score of test data :',test_accuracy)"
      ]
    },
    {
      "attachments": {},
      "cell_type": "markdown",
      "metadata": {
        "id": "IFg2M6Z8itjP"
      },
      "source": [
        "The confusion matrix for Decision Tree Classifier can be implemented with the code below."
      ]
    },
    {
      "cell_type": "code",
      "execution_count": 159,
      "metadata": {
        "id": "4lSrX7z9iul3"
      },
      "outputs": [
        {
          "data": {
            "image/png": "[encoded data removed]",
            "text/plain": [
              "<Figure size 640x480 with 2 Axes>"
            ]
          },
          "metadata": {},
          "output_type": "display_data"
        }
      ],
      "source": [
        "# Confusion matrix of Results from Decision Tree classification\n",
        "cm = metrics.confusion_matrix(Y_test, Y_test_pred)\n",
        "cm_display = metrics.ConfusionMatrixDisplay(confusion_matrix=cm,\n",
        "                                            display_labels=[False, True])\n",
        "cm_display.plot()\n",
        "plt.show()"
      ]
    },
    {
      "cell_type": "markdown",
      "metadata": {},
      "source": [
        "**Model Training : Passive Aggressive Classifier**"
      ]
    },
    {
      "cell_type": "code",
      "execution_count": 160,
      "metadata": {},
      "outputs": [
        {
          "data": {
            "text/html": [
              "<style>#sk-container-id-9 {color: black;background-color: white;}#sk-container-id-9 pre{padding: 0;}#sk-container-id-9 div.sk-toggleable {background-color: white;}#sk-container-id-9 label.sk-toggleable__label {cursor: pointer;display: block;width: 100%;margin-bottom: 0;padding: 0.3em;box-sizing: border-box;text-align: center;}#sk-container-id-9 label.sk-toggleable__label-arrow:before {content: \"▸\";float: left;margin-right: 0.25em;color: #696969;}#sk-container-id-9 label.sk-toggleable__label-arrow:hover:before {color: black;}#sk-container-id-9 div.sk-estimator:hover label.sk-toggleable__label-arrow:before {color: black;}#sk-container-id-9 div.sk-toggleable__content {max-height: 0;max-width: 0;overflow: hidden;text-align: left;background-color: #f0f8ff;}#sk-container-id-9 div.sk-toggleable__content pre {margin: 0.2em;color: black;border-radius: 0.25em;background-color: #f0f8ff;}#sk-container-id-9 input.sk-toggleable__control:checked~div.sk-toggleable__content {max-height: 200px;max-width: 100%;overflow: auto;}#sk-container-id-9 input.sk-toggleable__control:checked~label.sk-toggleable__label-arrow:before {content: \"▾\";}#sk-container-id-9 div.sk-estimator input.sk-toggleable__control:checked~label.sk-toggleable__label {background-color: #d4ebff;}#sk-container-id-9 div.sk-label input.sk-toggleable__control:checked~label.sk-toggleable__label {background-color: #d4ebff;}#sk-container-id-9 input.sk-hidden--visually {border: 0;clip: rect(1px 1px 1px 1px);clip: rect(1px, 1px, 1px, 1px);height: 1px;margin: -1px;overflow: hidden;padding: 0;position: absolute;width: 1px;}#sk-container-id-9 div.sk-estimator {font-family: monospace;background-color: #f0f8ff;border: 1px dotted black;border-radius: 0.25em;box-sizing: border-box;margin-bottom: 0.5em;}#sk-container-id-9 div.sk-estimator:hover {background-color: #d4ebff;}#sk-container-id-9 div.sk-parallel-item::after {content: \"\";width: 100%;border-bottom: 1px solid gray;flex-grow: 1;}#sk-container-id-9 div.sk-label:hover label.sk-toggleable__label {background-color: #d4ebff;}#sk-container-id-9 div.sk-serial::before {content: \"\";position: absolute;border-left: 1px solid gray;box-sizing: border-box;top: 0;bottom: 0;left: 50%;z-index: 0;}#sk-container-id-9 div.sk-serial {display: flex;flex-direction: column;align-items: center;background-color: white;padding-right: 0.2em;padding-left: 0.2em;position: relative;}#sk-container-id-9 div.sk-item {position: relative;z-index: 1;}#sk-container-id-9 div.sk-parallel {display: flex;align-items: stretch;justify-content: center;background-color: white;position: relative;}#sk-container-id-9 div.sk-item::before, #sk-container-id-9 div.sk-parallel-item::before {content: \"\";position: absolute;border-left: 1px solid gray;box-sizing: border-box;top: 0;bottom: 0;left: 50%;z-index: -1;}#sk-container-id-9 div.sk-parallel-item {display: flex;flex-direction: column;z-index: 1;position: relative;background-color: white;}#sk-container-id-9 div.sk-parallel-item:first-child::after {align-self: flex-end;width: 50%;}#sk-container-id-9 div.sk-parallel-item:last-child::after {align-self: flex-start;width: 50%;}#sk-container-id-9 div.sk-parallel-item:only-child::after {width: 0;}#sk-container-id-9 div.sk-dashed-wrapped {border: 1px dashed gray;margin: 0 0.4em 0.5em 0.4em;box-sizing: border-box;padding-bottom: 0.4em;background-color: white;}#sk-container-id-9 div.sk-label label {font-family: monospace;font-weight: bold;display: inline-block;line-height: 1.2em;}#sk-container-id-9 div.sk-label-container {text-align: center;}#sk-container-id-9 div.sk-container {/* jupyter's `normalize.less` sets `[hidden] { display: none; }` but bootstrap.min.css set `[hidden] { display: none !important; }` so we also need the `!important` here to be able to override the default hidden behavior on the sphinx rendered scikit-learn.org. See: https://github.com/scikit-learn/scikit-learn/issues/21755 */display: inline-block !important;position: relative;}#sk-container-id-9 div.sk-text-repr-fallback {display: none;}</style><div id=\"sk-container-id-9\" class=\"sk-top-container\"><div class=\"sk-text-repr-fallback\"><pre>PassiveAggressiveClassifier()</pre><b>In a Jupyter environment, please rerun this cell to show the HTML representation or trust the notebook. <br />On GitHub, the HTML representation is unable to render, please try loading this page with nbviewer.org.</b></div><div class=\"sk-container\" hidden><div class=\"sk-item\"><div class=\"sk-estimator sk-toggleable\"><input class=\"sk-toggleable__control sk-hidden--visually\" id=\"sk-estimator-id-9\" type=\"checkbox\" checked><label for=\"sk-estimator-id-9\" class=\"sk-toggleable__label sk-toggleable__label-arrow\">PassiveAggressiveClassifier</label><div class=\"sk-toggleable__content\"><pre>PassiveAggressiveClassifier()</pre></div></div></div></div></div>"
            ],
            "text/plain": [
              "PassiveAggressiveClassifier()"
            ]
          },
          "execution_count": 160,
          "metadata": {},
          "output_type": "execute_result"
        }
      ],
      "source": [
        "classifier = PassiveAggressiveClassifier(max_iter=1000)\n",
        "classifier.fit(tfidf_X_train,Y_train)\n"
      ]
    },
    {
      "cell_type": "markdown",
      "metadata": {},
      "source": [
        "**Evaluation and Prediction**\n"
      ]
    },
    {
      "cell_type": "code",
      "execution_count": 161,
      "metadata": {},
      "outputs": [
        {
          "name": "stdout",
          "output_type": "stream",
          "text": [
            "Accuracy: 92.82%\n"
          ]
        }
      ],
      "source": [
        "Y_pred = classifier.predict(tfidf_X_test)\n",
        "score = metrics.accuracy_score(Y_test, Y_pred)\n",
        "print(f'Accuracy: {round(score*100,2)}%')\n"
      ]
    },
    {
      "cell_type": "code",
      "execution_count": 162,
      "metadata": {},
      "outputs": [
        {
          "data": {
            "image/png": "[encoded data removed]",
            "text/plain": [
              "<Figure size 640x480 with 2 Axes>"
            ]
          },
          "metadata": {},
          "output_type": "display_data"
        }
      ],
      "source": [
        "# Confusion matrix of Results from Passive Aggresive classification\n",
        "cm = metrics.confusion_matrix(Y_test, Y_pred)\n",
        "cm_display = metrics.ConfusionMatrixDisplay(confusion_matrix=cm,\n",
        "                                            display_labels=[False, True])\n",
        "cm_display.plot()\n",
        "plt.show()"
      ]
    },
    {
      "cell_type": "markdown",
      "metadata": {},
      "source": [
        "**Model Training : XGBoost**"
      ]
    },
    {
      "cell_type": "code",
      "execution_count": 171,
      "metadata": {},
      "outputs": [
        {
          "data": {
            "text/html": [
              "<style>#sk-container-id-10 {color: black;background-color: white;}#sk-container-id-10 pre{padding: 0;}#sk-container-id-10 div.sk-toggleable {background-color: white;}#sk-container-id-10 label.sk-toggleable__label {cursor: pointer;display: block;width: 100%;margin-bottom: 0;padding: 0.3em;box-sizing: border-box;text-align: center;}#sk-container-id-10 label.sk-toggleable__label-arrow:before {content: \"▸\";float: left;margin-right: 0.25em;color: #696969;}#sk-container-id-10 label.sk-toggleable__label-arrow:hover:before {color: black;}#sk-container-id-10 div.sk-estimator:hover label.sk-toggleable__label-arrow:before {color: black;}#sk-container-id-10 div.sk-toggleable__content {max-height: 0;max-width: 0;overflow: hidden;text-align: left;background-color: #f0f8ff;}#sk-container-id-10 div.sk-toggleable__content pre {margin: 0.2em;color: black;border-radius: 0.25em;background-color: #f0f8ff;}#sk-container-id-10 input.sk-toggleable__control:checked~div.sk-toggleable__content {max-height: 200px;max-width: 100%;overflow: auto;}#sk-container-id-10 input.sk-toggleable__control:checked~label.sk-toggleable__label-arrow:before {content: \"▾\";}#sk-container-id-10 div.sk-estimator input.sk-toggleable__control:checked~label.sk-toggleable__label {background-color: #d4ebff;}#sk-container-id-10 div.sk-label input.sk-toggleable__control:checked~label.sk-toggleable__label {background-color: #d4ebff;}#sk-container-id-10 input.sk-hidden--visually {border: 0;clip: rect(1px 1px 1px 1px);clip: rect(1px, 1px, 1px, 1px);height: 1px;margin: -1px;overflow: hidden;padding: 0;position: absolute;width: 1px;}#sk-container-id-10 div.sk-estimator {font-family: monospace;background-color: #f0f8ff;border: 1px dotted black;border-radius: 0.25em;box-sizing: border-box;margin-bottom: 0.5em;}#sk-container-id-10 div.sk-estimator:hover {background-color: #d4ebff;}#sk-container-id-10 div.sk-parallel-item::after {content: \"\";width: 100%;border-bottom: 1px solid gray;flex-grow: 1;}#sk-container-id-10 div.sk-label:hover label.sk-toggleable__label {background-color: #d4ebff;}#sk-container-id-10 div.sk-serial::before {content: \"\";position: absolute;border-left: 1px solid gray;box-sizing: border-box;top: 0;bottom: 0;left: 50%;z-index: 0;}#sk-container-id-10 div.sk-serial {display: flex;flex-direction: column;align-items: center;background-color: white;padding-right: 0.2em;padding-left: 0.2em;position: relative;}#sk-container-id-10 div.sk-item {position: relative;z-index: 1;}#sk-container-id-10 div.sk-parallel {display: flex;align-items: stretch;justify-content: center;background-color: white;position: relative;}#sk-container-id-10 div.sk-item::before, #sk-container-id-10 div.sk-parallel-item::before {content: \"\";position: absolute;border-left: 1px solid gray;box-sizing: border-box;top: 0;bottom: 0;left: 50%;z-index: -1;}#sk-container-id-10 div.sk-parallel-item {display: flex;flex-direction: column;z-index: 1;position: relative;background-color: white;}#sk-container-id-10 div.sk-parallel-item:first-child::after {align-self: flex-end;width: 50%;}#sk-container-id-10 div.sk-parallel-item:last-child::after {align-self: flex-start;width: 50%;}#sk-container-id-10 div.sk-parallel-item:only-child::after {width: 0;}#sk-container-id-10 div.sk-dashed-wrapped {border: 1px dashed gray;margin: 0 0.4em 0.5em 0.4em;box-sizing: border-box;padding-bottom: 0.4em;background-color: white;}#sk-container-id-10 div.sk-label label {font-family: monospace;font-weight: bold;display: inline-block;line-height: 1.2em;}#sk-container-id-10 div.sk-label-container {text-align: center;}#sk-container-id-10 div.sk-container {/* jupyter's `normalize.less` sets `[hidden] { display: none; }` but bootstrap.min.css set `[hidden] { display: none !important; }` so we also need the `!important` here to be able to override the default hidden behavior on the sphinx rendered scikit-learn.org. See: https://github.com/scikit-learn/scikit-learn/issues/21755 */display: inline-block !important;position: relative;}#sk-container-id-10 div.sk-text-repr-fallback {display: none;}</style><div id=\"sk-container-id-10\" class=\"sk-top-container\"><div class=\"sk-text-repr-fallback\"><pre>XGBClassifier(base_score=None, booster=None, callbacks=None,\n",
              "              colsample_bylevel=None, colsample_bynode=None,\n",
              "              colsample_bytree=0.8, early_stopping_rounds=None,\n",
              "              enable_categorical=False, eval_metric=None, feature_types=None,\n",
              "              gamma=0.01, gpu_id=None, grow_policy=None, importance_type=None,\n",
              "              interaction_constraints=None, learning_rate=0.001, max_bin=None,\n",
              "              max_cat_threshold=None, max_cat_to_onehot=None,\n",
              "              max_delta_step=None, max_depth=10, max_leaves=None,\n",
              "              min_child_weight=1, missing=nan, monotone_constraints=None,\n",
              "              n_estimators=1000, n_jobs=None, num_parallel_tree=None,\n",
              "              predictor=None, random_state=None, ...)</pre><b>In a Jupyter environment, please rerun this cell to show the HTML representation or trust the notebook. <br />On GitHub, the HTML representation is unable to render, please try loading this page with nbviewer.org.</b></div><div class=\"sk-container\" hidden><div class=\"sk-item\"><div class=\"sk-estimator sk-toggleable\"><input class=\"sk-toggleable__control sk-hidden--visually\" id=\"sk-estimator-id-10\" type=\"checkbox\" checked><label for=\"sk-estimator-id-10\" class=\"sk-toggleable__label sk-toggleable__label-arrow\">XGBClassifier</label><div class=\"sk-toggleable__content\"><pre>XGBClassifier(base_score=None, booster=None, callbacks=None,\n",
              "              colsample_bylevel=None, colsample_bynode=None,\n",
              "              colsample_bytree=0.8, early_stopping_rounds=None,\n",
              "              enable_categorical=False, eval_metric=None, feature_types=None,\n",
              "              gamma=0.01, gpu_id=None, grow_policy=None, importance_type=None,\n",
              "              interaction_constraints=None, learning_rate=0.001, max_bin=None,\n",
              "              max_cat_threshold=None, max_cat_to_onehot=None,\n",
              "              max_delta_step=None, max_depth=10, max_leaves=None,\n",
              "              min_child_weight=1, missing=nan, monotone_constraints=None,\n",
              "              n_estimators=1000, n_jobs=None, num_parallel_tree=None,\n",
              "              predictor=None, random_state=None, ...)</pre></div></div></div></div></div>"
            ],
            "text/plain": [
              "XGBClassifier(base_score=None, booster=None, callbacks=None,\n",
              "              colsample_bylevel=None, colsample_bynode=None,\n",
              "              colsample_bytree=0.8, early_stopping_rounds=None,\n",
              "              enable_categorical=False, eval_metric=None, feature_types=None,\n",
              "              gamma=0.01, gpu_id=None, grow_policy=None, importance_type=None,\n",
              "              interaction_constraints=None, learning_rate=0.001, max_bin=None,\n",
              "              max_cat_threshold=None, max_cat_to_onehot=None,\n",
              "              max_delta_step=None, max_depth=10, max_leaves=None,\n",
              "              min_child_weight=1, missing=nan, monotone_constraints=None,\n",
              "              n_estimators=1000, n_jobs=None, num_parallel_tree=None,\n",
              "              predictor=None, random_state=None, ...)"
            ]
          },
          "execution_count": 171,
          "metadata": {},
          "output_type": "execute_result"
        }
      ],
      "source": [
        "xgb_model = XGBClassifier(\n",
        "    learning_rate=0.001,         # Step size at each boosting iteration\n",
        "    n_estimators=1000,           # Number of boosting rounds (trees)\n",
        "    max_depth=10,                # Maximum depth of each decision tree\n",
        "    min_child_weight=1,          # Minimum sum of instance weight needed in a child\n",
        "    subsample=0.8,               # Fraction of samples used for fitting each tree\n",
        "    colsample_bytree=0.8,        # Fraction of features used for fitting each tree\n",
        "    objective='binary:logistic', # Objective function for binary classification\n",
        "    seed=42,                     # Random seed for reproducibility\n",
        "    gamma=0.01,                  # Minimum loss reduction required to make a further partition\n",
        "    reg_lambda=0.1               # L2 regularization term on weights\n",
        ")\n",
        "\n",
        "xgb_model.fit(tfidf_X_train, Y_train)"
      ]
    },
    {
      "cell_type": "code",
      "execution_count": 173,
      "metadata": {},
      "outputs": [
        {
          "name": "stdout",
          "output_type": "stream",
          "text": [
            "Accuracy: 86.66%\n"
          ]
        }
      ],
      "source": [
        "# make predictions for test data\n",
        "Y_pred_xgb = xgb_model.predict(tfidf_X_test)\n",
        "predictions = [round(value) for value in Y_pred_xgb]\n",
        "# evaluate predictions\n",
        "accuracy = accuracy_score(Y_test, predictions)\n",
        "print(\"Accuracy: %.2f%%\" % (accuracy * 100.0))"
      ]
    },
    {
      "cell_type": "code",
      "execution_count": 175,
      "metadata": {},
      "outputs": [
        {
          "data": {
            "image/png": "[encoded data removed]",
            "text/plain": [
              "<Figure size 640x480 with 2 Axes>"
            ]
          },
          "metadata": {},
          "output_type": "display_data"
        }
      ],
      "source": [
        "# Confusion matrix of Results from Passive Aggresive classification\n",
        "cm = metrics.confusion_matrix(Y_test, Y_pred_xgb)\n",
        "cm_display = metrics.ConfusionMatrixDisplay(confusion_matrix=cm,\n",
        "                                            display_labels=[False, True])\n",
        "cm_display.plot()\n",
        "plt.show()\n"
      ]
    },
    {
      "cell_type": "markdown",
      "metadata": {},
      "source": [
        "**Evaluation and Prediction**\n"
      ]
    },
    {
      "attachments": {},
      "cell_type": "markdown",
      "metadata": {
        "id": "qkcOWkLLh-lA"
      },
      "source": [
        "**Making a predictive system**"
      ]
    },
    {
      "cell_type": "code",
      "execution_count": 164,
      "metadata": {},
      "outputs": [],
      "source": [
        "def fake_news_detector(news):\n",
        "    input_data=[news]\n",
        "    #vectorization\n",
        "    vectorized_input_data=vectorizer.transform(input_data)\n",
        "    #predicton\n",
        "    prediction = classifier.predict(vectorized_input_data)\n",
        "    # print(prediction)\n",
        "    if(prediction[0]==0):\n",
        "        print(\"Looks like a FAKE News\")\n",
        "    else:\n",
        "        print(\"Looks like a REAL News\")\n"
      ]
    },
    {
      "cell_type": "markdown",
      "metadata": {},
      "source": [
        "**Testing on random examples**"
      ]
    },
    {
      "cell_type": "code",
      "execution_count": 166,
      "metadata": {},
      "outputs": [
        {
          "name": "stdout",
          "output_type": "stream",
          "text": [
            "Looks like a FAKE News\n"
          ]
        }
      ],
      "source": [
        "fake_news_detector(\"Go to Article President Barack Obama has been campaigning hard for the woman who is supposedly going to extend his legacy four more years. The only problem with stumping for Hillary Clinton, however, is sheâ€™s not exactly a candidate easy to get too enthused about.  \"\"\")"
      ]
    },
    {
      "cell_type": "code",
      "execution_count": 165,
      "metadata": {},
      "outputs": [
        {
          "name": "stdout",
          "output_type": "stream",
          "text": [
            "Looks like a REAL News\n"
          ]
        }
      ],
      "source": [
        "fake_news_detector('U.S. Secretary of State John F. Kerry said Monday that he will stop in Paris later this week, amid criticism that no top American officials attended Sundayâ€™s unity march against terrorism.')"
      ]
    },
    {
      "cell_type": "code",
      "execution_count": 167,
      "metadata": {},
      "outputs": [
        {
          "name": "stdout",
          "output_type": "stream",
          "text": [
            "Looks like a REAL News\n"
          ]
        }
      ],
      "source": [
        "fake_news_detector(\"Iranian negotiators reportedly have made a last-ditch push for more concessions from the U.S. and five other world powers as talks on the fate of Iran's nuclear program come down to the final days before a crucial deadline.The New York Times reported late Sunday that Tehran had backed away from a tentative promise to ship a large portion of its uranium stockpile to Russia, where it could not be used as part of any future weapons program. Western officials insisted to the paper that the uranium did not have to be sent overseas, but could be disposed of in other ways.The new twist in the talks comes just two days before the deadline for both sides to agree on a framework for a permanent deal. The final deadline for a permanent deal would not arrive until the end of June.However, if Iran insists on keeping its uranium in the country, it would undermine a key argument made in favor of the deal by the Obama administration. The Times reports that if the uranium had gone to Russia, it would have been converted into fuel rods, which are difficult to use in nuclear weapons. It is not clear what would happen to the uranium if it remained in Iran.The Associated Press reported Sunday that Iran's position had shifted from from demanding that it be allowed to keep nearly 10,000 centrifuges enriching uranium, to agreeing to keep 6,000. Western officials involved in the talks told the Associated Press that Tehran may be ready to accept an even lower number.The United States and its allies want a deal that extends the time Iran would need to make a nuclear weapon from the present two months to three months to at least a year. However, The Times reported Sunday that a paper published by Olli Heinonen, former head of inspections for the U.N.'s nuclear watchdog, estimated that Iran could still develop a nuclear weapon in seven or eight months with around 6,500 centrifuges.Tehran says it wants to enrich uranium only for energy, science, industry and medicine. But many countries fear Iran could use the technology to make weapons-grade uranium.Officials told the Associated Press that another main dispute involved the length of an agreement. Iran, they said, wants a total lifting of all caps on its activities after 10 years, while the U.S. and the five other nations at the talks â€” Russia, China, Britain, France and Germany â€” insist on progressive removal after a decade.A senior U.S. official characterized the issue as lack of agreement on what happens in years 11 to 15. The official spoke on condition of anonymity in line with State Department rules on briefing about the closed-door talks.Limits on Iran's research and development of centrifuges also were unresolved, the Western officials said.Tehran has created a prototype centrifuge that it says enriches uranium 16 times faster than its present mainstay model. The U.S. and its partners want to constrain research that would increase greatly the speed of making enough weapons-grade uranium for a bomb, once limits on Iran's programs are lifted.One official said Russia opposed the U.S. position that any U.N. penalties lifted in the course of a deal should be reimposed quickly if Tehran reneged on any commitments.Both Western officials said Iran was resisting attempts to make inspections and other ways of verification as intrusive as possible.There was tentative agreement on turning a nearly-finished reactor into a model that gives off less plutonium waste than originally envisaged. Plutonium, like enriched uranium, is a path to nuclear weapons.Iran and the U.S. were discussing letting Iran run centrifuges at an underground bunker that has been used to enrich uranium. The machines would produce isotopes for peaceful applications, the officials said.With the Tuesday deadline approaching and problems remaining, U.S. Secretary of State John Kerry canceled plans Sunday to return to the United States for an event honoring the late U.S. Sen. Edward Kennedy. French Foreign Minister Laurent Fabius and Frank-Walter Steinmeier, his German counterpart, scratched planned trips to Kazakhstan.Kerry has been in discussions with Iranian Foreign Minister Mohammad Javad Zarif since Thursday.The Associated Press contributed to this report.Click for more from The New York Times.\")"
      ]
    },
    {
      "cell_type": "code",
      "execution_count": 168,
      "metadata": {},
      "outputs": [
        {
          "name": "stdout",
          "output_type": "stream",
          "text": [
            "Looks like a REAL News\n"
          ]
        }
      ],
      "source": [
        "fake_news_detector(\"After a week of nonstop criticism from Democrats and Republicans alike for comments many condemned as racially charged, Donald Trump claims to be altering his campaign to be a little more inclusive. While the presumptive G.O.P. has long promised to â€œmake America great again,â€ Trump now says heâ€™s adding two words to slogan to illustrate just how non-racist he really is.â€œYou know, I have the theme â€˜make America great again,â€™ and I've added a couple of things,â€ Trump announced to supporters at a campaign rally in Richmond, Virginia, on Friday night. â€œRight now Iâ€™m adding make America great againâ€”Iâ€™m adding â€˜for everyone,â€™ because itâ€™s really going to be for everyone. Itâ€™s not going to be for a group of people, itâ€™s going to be for everyone. Itâ€™s true.â€The allegedly amended slogan, which has yet to appear on any official signage or Trump merchandise, comes after the presidential candidate spent the first half of June repeatedly denouncing Gonzalo Curiel, the federal judge of Mexican heritage presiding over the Trump University class action lawsuit, as inherently biased against him. (Curiel was born in Indiana.) His comments were widely condemned by the Washington political establishment, including Senate Minority Leader Mitch McConnell, who suggested he may be an idiot, and House Speaker Paul Ryan, who called Trumpâ€™s statement the â€œtextbook definition of a racist comment.â€Trump, who hasnâ€™t apologized or taken back any of his comments, indicated on Friday that he realized his words have had a negative effect on his campaign and declared he is not a racist.â€œI am the least racist person. The least racist person that youâ€™ve ever seen. I mean give me a break,â€ he said at the rally. â€œI am the least racist person that youâ€™ve ever looked at, believe me.â€\")"
      ]
    },
    {
      "attachments": {},
      "cell_type": "markdown",
      "metadata": {
        "id": "9Zrpw20pjPHh"
      },
      "source": [
        "**Conclusion**<br>\n",
        "*Decision Tree Classifier* and *Logistic regression* both are performing well."
      ]
    },
    {
      "cell_type": "markdown",
      "metadata": {},
      "source": [
        "**Pickle and load model**<br>\n",
        "Now, time to pickle (save) the model and vectorizer so you can use them elsewhere."
      ]
    },
    {
      "cell_type": "code",
      "execution_count": 176,
      "metadata": {},
      "outputs": [],
      "source": [
        "\n",
        "pickle.dump(classifier, open('model.pkl', 'wb'))\n",
        "pickle.dump(vectorizer, open('tfidfvect.pkl', 'wb'))"
      ]
    },
    {
      "cell_type": "markdown",
      "metadata": {},
      "source": [
        "Let’s see if we can use this model without training again."
      ]
    },
    {
      "cell_type": "code",
      "execution_count": 180,
      "metadata": {},
      "outputs": [
        {
          "name": "stdout",
          "output_type": "stream",
          "text": [
            "Looks like a FAKE News\n"
          ]
        }
      ],
      "source": [
        "# Load model and vectorizer\n",
        "\n",
        "news = \"Go to Article President Barack Obama has been campaigning hard for the woman who is supposedly going to extend his legacy four more years. The only problem with stumping for Hillary Clinton, however, is sheâ€™s not exactly a candidate easy to get too enthused about.  \"\n",
        "\n",
        "\n",
        "joblib_model = pickle.load(open('model.pkl', 'rb'))\n",
        "joblib_vect = pickle.load(open('tfidfvect.pkl', 'rb'))\n",
        "val_pkl = joblib_vect.transform([news]).toarray()\n",
        "pred_pkl=joblib_model.predict(val_pkl)\n",
        "if(pred_pkl[0]==0):\n",
        "        print(\"Looks like a FAKE News\")\n",
        "else:\n",
        "        print(\"Looks like a REAL News\")\n"
      ]
    },
    {
      "cell_type": "markdown",
      "metadata": {},
      "source": [
        "We got the same output! That’s what we expected!\n",
        "\n",
        "Now the model is ready, time for us to deploy it and detect any news on the web application."
      ]
    }
  ],
  "metadata": {
    "colab": {
      "provenance": []
    },
    "kernelspec": {
      "display_name": "Python 3",
      "name": "python3"
    },
    "language_info": {
      "codemirror_mode": {
        "name": "ipython",
        "version": 3
      },
      "file_extension": ".py",
      "mimetype": "text/x-python",
      "name": "python",
      "nbconvert_exporter": "python",
      "pygments_lexer": "ipython3",
      "version": "3.9.5"
    }
  },
  "nbformat": 4,
  "nbformat_minor": 0
}
